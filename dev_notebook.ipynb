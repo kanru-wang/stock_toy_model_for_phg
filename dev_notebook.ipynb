{
 "cells": [
  {
   "cell_type": "code",
   "execution_count": 69,
   "metadata": {},
   "outputs": [],
   "source": [
    "import pandas as pd\n",
    "import numpy as np\n",
    "\n",
    "import pickle\n",
    "import seaborn as sns\n",
    "from datetime import datetime\n",
    "from sklearn.ensemble import RandomForestRegressor"
   ]
  },
  {
   "cell_type": "code",
   "execution_count": 2,
   "metadata": {},
   "outputs": [],
   "source": [
    "close_returns_raw = pd.read_csv('dataset/close_returns.csv', index_col = 0, parse_dates = True)\n",
    "high_prices_raw = pd.read_csv('dataset/high_prices.csv', index_col = 0, parse_dates = True)\n",
    "low_prices_raw = pd.read_csv('dataset/low_prices.csv', index_col = 0, parse_dates = True)\n",
    "volume_raw = pd.read_csv('dataset/volume.csv', index_col = 0, parse_dates = True)\n",
    "signals_A_raw = pd.read_csv('dataset/signals_A.csv', index_col = 0, parse_dates = True)\n",
    "signals_B_raw = pd.read_csv('dataset/signals_B.csv', index_col = 0, parse_dates = True)"
   ]
  },
  {
   "cell_type": "code",
   "execution_count": 3,
   "metadata": {},
   "outputs": [
    {
     "data": {
      "text/html": [
       "<div>\n",
       "<style scoped>\n",
       "    .dataframe tbody tr th:only-of-type {\n",
       "        vertical-align: middle;\n",
       "    }\n",
       "\n",
       "    .dataframe tbody tr th {\n",
       "        vertical-align: top;\n",
       "    }\n",
       "\n",
       "    .dataframe thead th {\n",
       "        text-align: right;\n",
       "    }\n",
       "</style>\n",
       "<table border=\"1\" class=\"dataframe\">\n",
       "  <thead>\n",
       "    <tr style=\"text-align: right;\">\n",
       "      <th></th>\n",
       "      <th>A.0</th>\n",
       "      <th>A.1</th>\n",
       "      <th>A.2</th>\n",
       "      <th>A.3</th>\n",
       "      <th>A.4</th>\n",
       "      <th>A.5</th>\n",
       "      <th>A.6</th>\n",
       "      <th>A.7</th>\n",
       "      <th>A.8</th>\n",
       "      <th>A.9</th>\n",
       "      <th>...</th>\n",
       "      <th>A.990</th>\n",
       "      <th>A.991</th>\n",
       "      <th>A.992</th>\n",
       "      <th>A.993</th>\n",
       "      <th>A.994</th>\n",
       "      <th>A.995</th>\n",
       "      <th>A.996</th>\n",
       "      <th>A.997</th>\n",
       "      <th>A.998</th>\n",
       "      <th>A.999</th>\n",
       "    </tr>\n",
       "    <tr>\n",
       "      <th>time</th>\n",
       "      <th></th>\n",
       "      <th></th>\n",
       "      <th></th>\n",
       "      <th></th>\n",
       "      <th></th>\n",
       "      <th></th>\n",
       "      <th></th>\n",
       "      <th></th>\n",
       "      <th></th>\n",
       "      <th></th>\n",
       "      <th></th>\n",
       "      <th></th>\n",
       "      <th></th>\n",
       "      <th></th>\n",
       "      <th></th>\n",
       "      <th></th>\n",
       "      <th></th>\n",
       "      <th></th>\n",
       "      <th></th>\n",
       "      <th></th>\n",
       "      <th></th>\n",
       "    </tr>\n",
       "  </thead>\n",
       "  <tbody>\n",
       "    <tr>\n",
       "      <th>2017-01-03 09:30:00</th>\n",
       "      <td>NaN</td>\n",
       "      <td>NaN</td>\n",
       "      <td>NaN</td>\n",
       "      <td>NaN</td>\n",
       "      <td>NaN</td>\n",
       "      <td>NaN</td>\n",
       "      <td>NaN</td>\n",
       "      <td>NaN</td>\n",
       "      <td>NaN</td>\n",
       "      <td>NaN</td>\n",
       "      <td>...</td>\n",
       "      <td>NaN</td>\n",
       "      <td>NaN</td>\n",
       "      <td>NaN</td>\n",
       "      <td>NaN</td>\n",
       "      <td>NaN</td>\n",
       "      <td>NaN</td>\n",
       "      <td>NaN</td>\n",
       "      <td>NaN</td>\n",
       "      <td>NaN</td>\n",
       "      <td>NaN</td>\n",
       "    </tr>\n",
       "    <tr>\n",
       "      <th>2017-01-03 09:45:00</th>\n",
       "      <td>-0.010530</td>\n",
       "      <td>0.002627</td>\n",
       "      <td>-0.005865</td>\n",
       "      <td>-0.002815</td>\n",
       "      <td>-0.006875</td>\n",
       "      <td>0.004111</td>\n",
       "      <td>-0.007562</td>\n",
       "      <td>0.034228</td>\n",
       "      <td>-0.016570</td>\n",
       "      <td>-0.023604</td>\n",
       "      <td>...</td>\n",
       "      <td>0.002529</td>\n",
       "      <td>-0.005074</td>\n",
       "      <td>0.000942</td>\n",
       "      <td>0.005411</td>\n",
       "      <td>NaN</td>\n",
       "      <td>-0.002108</td>\n",
       "      <td>0.006905</td>\n",
       "      <td>-0.004139</td>\n",
       "      <td>0.006602</td>\n",
       "      <td>0.002468</td>\n",
       "    </tr>\n",
       "    <tr>\n",
       "      <th>2017-01-03 10:00:00</th>\n",
       "      <td>-0.005218</td>\n",
       "      <td>-0.003813</td>\n",
       "      <td>0.006697</td>\n",
       "      <td>-0.006235</td>\n",
       "      <td>-0.001562</td>\n",
       "      <td>0.030088</td>\n",
       "      <td>0.017317</td>\n",
       "      <td>-0.014377</td>\n",
       "      <td>0.002730</td>\n",
       "      <td>-0.003007</td>\n",
       "      <td>...</td>\n",
       "      <td>-0.001575</td>\n",
       "      <td>NaN</td>\n",
       "      <td>0.019034</td>\n",
       "      <td>-0.003286</td>\n",
       "      <td>NaN</td>\n",
       "      <td>-0.009330</td>\n",
       "      <td>NaN</td>\n",
       "      <td>0.004126</td>\n",
       "      <td>0.001973</td>\n",
       "      <td>0.023038</td>\n",
       "    </tr>\n",
       "    <tr>\n",
       "      <th>2017-01-03 10:15:00</th>\n",
       "      <td>0.004456</td>\n",
       "      <td>0.007341</td>\n",
       "      <td>0.006147</td>\n",
       "      <td>-0.001772</td>\n",
       "      <td>-0.001146</td>\n",
       "      <td>-0.018533</td>\n",
       "      <td>-0.015283</td>\n",
       "      <td>0.028084</td>\n",
       "      <td>-0.015930</td>\n",
       "      <td>0.001107</td>\n",
       "      <td>...</td>\n",
       "      <td>0.001118</td>\n",
       "      <td>NaN</td>\n",
       "      <td>-0.003259</td>\n",
       "      <td>-0.004713</td>\n",
       "      <td>NaN</td>\n",
       "      <td>-0.000681</td>\n",
       "      <td>NaN</td>\n",
       "      <td>0.008012</td>\n",
       "      <td>0.006369</td>\n",
       "      <td>-0.019062</td>\n",
       "    </tr>\n",
       "    <tr>\n",
       "      <th>2017-01-03 10:30:00</th>\n",
       "      <td>-0.001799</td>\n",
       "      <td>-0.010040</td>\n",
       "      <td>0.008337</td>\n",
       "      <td>-0.015490</td>\n",
       "      <td>0.000895</td>\n",
       "      <td>-0.022239</td>\n",
       "      <td>0.011906</td>\n",
       "      <td>NaN</td>\n",
       "      <td>0.034934</td>\n",
       "      <td>-0.008240</td>\n",
       "      <td>...</td>\n",
       "      <td>0.005739</td>\n",
       "      <td>NaN</td>\n",
       "      <td>-0.002320</td>\n",
       "      <td>-0.003620</td>\n",
       "      <td>NaN</td>\n",
       "      <td>-0.001107</td>\n",
       "      <td>0.007323</td>\n",
       "      <td>-0.018825</td>\n",
       "      <td>-0.004333</td>\n",
       "      <td>0.000031</td>\n",
       "    </tr>\n",
       "  </tbody>\n",
       "</table>\n",
       "<p>5 rows × 1000 columns</p>\n",
       "</div>"
      ],
      "text/plain": [
       "                          A.0       A.1       A.2       A.3       A.4  \\\n",
       "time                                                                    \n",
       "2017-01-03 09:30:00       NaN       NaN       NaN       NaN       NaN   \n",
       "2017-01-03 09:45:00 -0.010530  0.002627 -0.005865 -0.002815 -0.006875   \n",
       "2017-01-03 10:00:00 -0.005218 -0.003813  0.006697 -0.006235 -0.001562   \n",
       "2017-01-03 10:15:00  0.004456  0.007341  0.006147 -0.001772 -0.001146   \n",
       "2017-01-03 10:30:00 -0.001799 -0.010040  0.008337 -0.015490  0.000895   \n",
       "\n",
       "                          A.5       A.6       A.7       A.8       A.9  \\\n",
       "time                                                                    \n",
       "2017-01-03 09:30:00       NaN       NaN       NaN       NaN       NaN   \n",
       "2017-01-03 09:45:00  0.004111 -0.007562  0.034228 -0.016570 -0.023604   \n",
       "2017-01-03 10:00:00  0.030088  0.017317 -0.014377  0.002730 -0.003007   \n",
       "2017-01-03 10:15:00 -0.018533 -0.015283  0.028084 -0.015930  0.001107   \n",
       "2017-01-03 10:30:00 -0.022239  0.011906       NaN  0.034934 -0.008240   \n",
       "\n",
       "                       ...        A.990     A.991     A.992     A.993  A.994  \\\n",
       "time                   ...                                                     \n",
       "2017-01-03 09:30:00    ...          NaN       NaN       NaN       NaN    NaN   \n",
       "2017-01-03 09:45:00    ...     0.002529 -0.005074  0.000942  0.005411    NaN   \n",
       "2017-01-03 10:00:00    ...    -0.001575       NaN  0.019034 -0.003286    NaN   \n",
       "2017-01-03 10:15:00    ...     0.001118       NaN -0.003259 -0.004713    NaN   \n",
       "2017-01-03 10:30:00    ...     0.005739       NaN -0.002320 -0.003620    NaN   \n",
       "\n",
       "                        A.995     A.996     A.997     A.998     A.999  \n",
       "time                                                                   \n",
       "2017-01-03 09:30:00       NaN       NaN       NaN       NaN       NaN  \n",
       "2017-01-03 09:45:00 -0.002108  0.006905 -0.004139  0.006602  0.002468  \n",
       "2017-01-03 10:00:00 -0.009330       NaN  0.004126  0.001973  0.023038  \n",
       "2017-01-03 10:15:00 -0.000681       NaN  0.008012  0.006369 -0.019062  \n",
       "2017-01-03 10:30:00 -0.001107  0.007323 -0.018825 -0.004333  0.000031  \n",
       "\n",
       "[5 rows x 1000 columns]"
      ]
     },
     "execution_count": 3,
     "metadata": {},
     "output_type": "execute_result"
    }
   ],
   "source": [
    "close_returns_raw.head()"
   ]
  },
  {
   "cell_type": "code",
   "execution_count": 16,
   "metadata": {},
   "outputs": [
    {
     "data": {
      "text/plain": [
       "'2017-08-31 15:45:00'"
      ]
     },
     "execution_count": 16,
     "metadata": {},
     "output_type": "execute_result"
    }
   ],
   "source": [
    "#def train_test_split_and_fillna(dataframe):\n",
    "#    # Fill forward \n",
    "#    train_data = dataframe[:4360]\n",
    "#    test_data = dataframe[4360:]   "
   ]
  },
  {
   "cell_type": "code",
   "execution_count": 4,
   "metadata": {},
   "outputs": [],
   "source": [
    "median_volume_each_stock = volume_raw.median(axis = 0)\n",
    "volume_normalised = volume_raw.apply(lambda x: x / median_volume_each_stock, axis=1)"
   ]
  },
  {
   "cell_type": "code",
   "execution_count": 5,
   "metadata": {},
   "outputs": [],
   "source": [
    "volatility = (high_prices_raw - low_prices_raw) / low_prices_raw"
   ]
  },
  {
   "cell_type": "code",
   "execution_count": 6,
   "metadata": {},
   "outputs": [],
   "source": [
    "def intra_day_forward_fillna_max_filling_1_hour_gap(dataframe):\n",
    "    return dataframe.groupby(dataframe.index.dayofyear).apply(\n",
    "        lambda x: x.fillna(method = \"ffill\", axis = 0, limit = 4))"
   ]
  },
  {
   "cell_type": "code",
   "execution_count": 7,
   "metadata": {},
   "outputs": [],
   "source": [
    "volume_normalised_filled = intra_day_forward_fillna_max_filling_1_hour_gap(volume_normalised)\n",
    "volatility_filled = intra_day_forward_fillna_max_filling_1_hour_gap(volatility)\n",
    "signal_A_raw_filled = intra_day_forward_fillna_max_filling_1_hour_gap(signals_A_raw)\n",
    "signal_B_raw_filled = intra_day_forward_fillna_max_filling_1_hour_gap(signals_B_raw)"
   ]
  },
  {
   "cell_type": "code",
   "execution_count": 8,
   "metadata": {},
   "outputs": [],
   "source": [
    "close_returns_raw_filled = close_returns_raw.groupby(close_returns_raw.index.dayofyear).apply(\n",
    "    lambda x: x.fillna(value = 0.0, axis = 0)) \n",
    "# Different from \"ffill\", if use \"limit\" here, it would specify maximum \n",
    "# total number of 0 that can be used to pad each col. Not what we want."
   ]
  },
  {
   "cell_type": "code",
   "execution_count": 9,
   "metadata": {},
   "outputs": [],
   "source": [
    "list_of_df_each_for_one_stock = [pd.concat([close_returns_raw_filled.iloc[:, a],\n",
    "                                            volume_normalised_filled.iloc[:, a],\n",
    "                                            volatility_filled.iloc[:, a],\n",
    "                                            signal_A_raw_filled.iloc[:, a],\n",
    "                                            signal_B_raw_filled.iloc[:, a]], axis = 1)\n",
    "                                 for a in range(1000)] # Total 1000 stocks"
   ]
  },
  {
   "cell_type": "code",
   "execution_count": 10,
   "metadata": {},
   "outputs": [],
   "source": [
    "for e in list_of_df_each_for_one_stock:\n",
    "    e.columns = [\"return\", \"volume\", \"volatility\", \"signal_A\", \"signal_B\"]               "
   ]
  },
  {
   "cell_type": "code",
   "execution_count": 11,
   "metadata": {},
   "outputs": [
    {
     "data": {
      "text/html": [
       "<div>\n",
       "<style scoped>\n",
       "    .dataframe tbody tr th:only-of-type {\n",
       "        vertical-align: middle;\n",
       "    }\n",
       "\n",
       "    .dataframe tbody tr th {\n",
       "        vertical-align: top;\n",
       "    }\n",
       "\n",
       "    .dataframe thead th {\n",
       "        text-align: right;\n",
       "    }\n",
       "</style>\n",
       "<table border=\"1\" class=\"dataframe\">\n",
       "  <thead>\n",
       "    <tr style=\"text-align: right;\">\n",
       "      <th></th>\n",
       "      <th>return</th>\n",
       "      <th>volume</th>\n",
       "      <th>volatility</th>\n",
       "      <th>signal_A</th>\n",
       "      <th>signal_B</th>\n",
       "    </tr>\n",
       "    <tr>\n",
       "      <th>time</th>\n",
       "      <th></th>\n",
       "      <th></th>\n",
       "      <th></th>\n",
       "      <th></th>\n",
       "      <th></th>\n",
       "    </tr>\n",
       "  </thead>\n",
       "  <tbody>\n",
       "    <tr>\n",
       "      <th>2017-01-03 09:30:00</th>\n",
       "      <td>0.000000</td>\n",
       "      <td>1.357828</td>\n",
       "      <td>0.011823</td>\n",
       "      <td>NaN</td>\n",
       "      <td>NaN</td>\n",
       "    </tr>\n",
       "    <tr>\n",
       "      <th>2017-01-03 09:45:00</th>\n",
       "      <td>-0.010530</td>\n",
       "      <td>0.840949</td>\n",
       "      <td>0.003595</td>\n",
       "      <td>-0.012937</td>\n",
       "      <td>NaN</td>\n",
       "    </tr>\n",
       "    <tr>\n",
       "      <th>2017-01-03 10:00:00</th>\n",
       "      <td>-0.005218</td>\n",
       "      <td>1.191392</td>\n",
       "      <td>0.005506</td>\n",
       "      <td>-0.004742</td>\n",
       "      <td>NaN</td>\n",
       "    </tr>\n",
       "    <tr>\n",
       "      <th>2017-01-03 10:15:00</th>\n",
       "      <td>0.004456</td>\n",
       "      <td>0.554745</td>\n",
       "      <td>0.004171</td>\n",
       "      <td>-0.001138</td>\n",
       "      <td>NaN</td>\n",
       "    </tr>\n",
       "    <tr>\n",
       "      <th>2017-01-03 10:30:00</th>\n",
       "      <td>-0.001799</td>\n",
       "      <td>0.484170</td>\n",
       "      <td>0.004360</td>\n",
       "      <td>0.003315</td>\n",
       "      <td>NaN</td>\n",
       "    </tr>\n",
       "  </tbody>\n",
       "</table>\n",
       "</div>"
      ],
      "text/plain": [
       "                       return    volume  volatility  signal_A  signal_B\n",
       "time                                                                   \n",
       "2017-01-03 09:30:00  0.000000  1.357828    0.011823       NaN       NaN\n",
       "2017-01-03 09:45:00 -0.010530  0.840949    0.003595 -0.012937       NaN\n",
       "2017-01-03 10:00:00 -0.005218  1.191392    0.005506 -0.004742       NaN\n",
       "2017-01-03 10:15:00  0.004456  0.554745    0.004171 -0.001138       NaN\n",
       "2017-01-03 10:30:00 -0.001799  0.484170    0.004360  0.003315       NaN"
      ]
     },
     "execution_count": 11,
     "metadata": {},
     "output_type": "execute_result"
    }
   ],
   "source": [
    "list_of_df_each_for_one_stock[0].head()"
   ]
  },
  {
   "cell_type": "code",
   "execution_count": 12,
   "metadata": {},
   "outputs": [
    {
     "data": {
      "text/html": [
       "<div>\n",
       "<style scoped>\n",
       "    .dataframe tbody tr th:only-of-type {\n",
       "        vertical-align: middle;\n",
       "    }\n",
       "\n",
       "    .dataframe tbody tr th {\n",
       "        vertical-align: top;\n",
       "    }\n",
       "\n",
       "    .dataframe thead th {\n",
       "        text-align: right;\n",
       "    }\n",
       "</style>\n",
       "<table border=\"1\" class=\"dataframe\">\n",
       "  <thead>\n",
       "    <tr style=\"text-align: right;\">\n",
       "      <th></th>\n",
       "      <th>return</th>\n",
       "      <th>volume</th>\n",
       "      <th>volatility</th>\n",
       "      <th>signal_A</th>\n",
       "      <th>signal_B</th>\n",
       "    </tr>\n",
       "    <tr>\n",
       "      <th>time</th>\n",
       "      <th></th>\n",
       "      <th></th>\n",
       "      <th></th>\n",
       "      <th></th>\n",
       "      <th></th>\n",
       "    </tr>\n",
       "  </thead>\n",
       "  <tbody>\n",
       "    <tr>\n",
       "      <th>2017-12-29 14:45:00</th>\n",
       "      <td>-0.014195</td>\n",
       "      <td>0.389359</td>\n",
       "      <td>0.000930</td>\n",
       "      <td>-0.014027</td>\n",
       "      <td>0.678396</td>\n",
       "    </tr>\n",
       "    <tr>\n",
       "      <th>2017-12-29 15:00:00</th>\n",
       "      <td>-0.005576</td>\n",
       "      <td>0.359596</td>\n",
       "      <td>0.001627</td>\n",
       "      <td>-0.006361</td>\n",
       "      <td>0.653249</td>\n",
       "    </tr>\n",
       "    <tr>\n",
       "      <th>2017-12-29 15:15:00</th>\n",
       "      <td>0.006572</td>\n",
       "      <td>0.628543</td>\n",
       "      <td>0.002169</td>\n",
       "      <td>0.005638</td>\n",
       "      <td>1.139014</td>\n",
       "    </tr>\n",
       "    <tr>\n",
       "      <th>2017-12-29 15:30:00</th>\n",
       "      <td>-0.005632</td>\n",
       "      <td>1.039431</td>\n",
       "      <td>0.001703</td>\n",
       "      <td>-0.003321</td>\n",
       "      <td>1.790983</td>\n",
       "    </tr>\n",
       "    <tr>\n",
       "      <th>2017-12-29 15:45:00</th>\n",
       "      <td>0.011733</td>\n",
       "      <td>5.173711</td>\n",
       "      <td>0.002170</td>\n",
       "      <td>0.011734</td>\n",
       "      <td>6.585453</td>\n",
       "    </tr>\n",
       "  </tbody>\n",
       "</table>\n",
       "</div>"
      ],
      "text/plain": [
       "                       return    volume  volatility  signal_A  signal_B\n",
       "time                                                                   \n",
       "2017-12-29 14:45:00 -0.014195  0.389359    0.000930 -0.014027  0.678396\n",
       "2017-12-29 15:00:00 -0.005576  0.359596    0.001627 -0.006361  0.653249\n",
       "2017-12-29 15:15:00  0.006572  0.628543    0.002169  0.005638  1.139014\n",
       "2017-12-29 15:30:00 -0.005632  1.039431    0.001703 -0.003321  1.790983\n",
       "2017-12-29 15:45:00  0.011733  5.173711    0.002170  0.011734  6.585453"
      ]
     },
     "execution_count": 12,
     "metadata": {},
     "output_type": "execute_result"
    }
   ],
   "source": [
    "list_of_df_each_for_one_stock[0].tail()"
   ]
  },
  {
   "cell_type": "code",
   "execution_count": 13,
   "metadata": {},
   "outputs": [],
   "source": [
    "# list_of_df_each_for_one_stock[0].groupby(list_of_df_each_for_one_stock[0].index.dayofyear)\n",
    "# [test.get_group(x) for x in test.groups]\n",
    "# [e for e in test1 if len(e.index) < 26]"
   ]
  },
  {
   "cell_type": "code",
   "execution_count": 14,
   "metadata": {},
   "outputs": [],
   "source": [
    "list_of_df_by_stock_by_day_grouped = [x.groupby(x.index.dayofyear) \n",
    "                                      for x in list_of_df_each_for_one_stock]"
   ]
  },
  {
   "cell_type": "code",
   "execution_count": 15,
   "metadata": {},
   "outputs": [],
   "source": [
    "list_of_df_by_stock_by_day = [x.get_group(a) \n",
    "                              for x in list_of_df_by_stock_by_day_grouped \n",
    "                              for a in x.groups]"
   ]
  },
  {
   "cell_type": "code",
   "execution_count": 16,
   "metadata": {},
   "outputs": [
    {
     "data": {
      "text/html": [
       "<div>\n",
       "<style scoped>\n",
       "    .dataframe tbody tr th:only-of-type {\n",
       "        vertical-align: middle;\n",
       "    }\n",
       "\n",
       "    .dataframe tbody tr th {\n",
       "        vertical-align: top;\n",
       "    }\n",
       "\n",
       "    .dataframe thead th {\n",
       "        text-align: right;\n",
       "    }\n",
       "</style>\n",
       "<table border=\"1\" class=\"dataframe\">\n",
       "  <thead>\n",
       "    <tr style=\"text-align: right;\">\n",
       "      <th></th>\n",
       "      <th>return</th>\n",
       "      <th>volume</th>\n",
       "      <th>volatility</th>\n",
       "      <th>signal_A</th>\n",
       "      <th>signal_B</th>\n",
       "    </tr>\n",
       "    <tr>\n",
       "      <th>time</th>\n",
       "      <th></th>\n",
       "      <th></th>\n",
       "      <th></th>\n",
       "      <th></th>\n",
       "      <th></th>\n",
       "    </tr>\n",
       "  </thead>\n",
       "  <tbody>\n",
       "    <tr>\n",
       "      <th>2017-01-03 14:45:00</th>\n",
       "      <td>0.002773</td>\n",
       "      <td>1.267860</td>\n",
       "      <td>0.001912</td>\n",
       "      <td>0.002390</td>\n",
       "      <td>1.559230</td>\n",
       "    </tr>\n",
       "    <tr>\n",
       "      <th>2017-01-03 15:00:00</th>\n",
       "      <td>-0.006562</td>\n",
       "      <td>0.902536</td>\n",
       "      <td>0.002672</td>\n",
       "      <td>-0.008265</td>\n",
       "      <td>1.130021</td>\n",
       "    </tr>\n",
       "    <tr>\n",
       "      <th>2017-01-03 15:15:00</th>\n",
       "      <td>0.001064</td>\n",
       "      <td>0.785697</td>\n",
       "      <td>0.002004</td>\n",
       "      <td>0.003739</td>\n",
       "      <td>0.969713</td>\n",
       "    </tr>\n",
       "    <tr>\n",
       "      <th>2017-01-03 15:30:00</th>\n",
       "      <td>-0.008516</td>\n",
       "      <td>1.212756</td>\n",
       "      <td>0.002479</td>\n",
       "      <td>-0.010592</td>\n",
       "      <td>1.432389</td>\n",
       "    </tr>\n",
       "    <tr>\n",
       "      <th>2017-01-03 15:45:00</th>\n",
       "      <td>0.003238</td>\n",
       "      <td>4.798810</td>\n",
       "      <td>0.005139</td>\n",
       "      <td>-0.000370</td>\n",
       "      <td>4.572557</td>\n",
       "    </tr>\n",
       "  </tbody>\n",
       "</table>\n",
       "</div>"
      ],
      "text/plain": [
       "                       return    volume  volatility  signal_A  signal_B\n",
       "time                                                                   \n",
       "2017-01-03 14:45:00  0.002773  1.267860    0.001912  0.002390  1.559230\n",
       "2017-01-03 15:00:00 -0.006562  0.902536    0.002672 -0.008265  1.130021\n",
       "2017-01-03 15:15:00  0.001064  0.785697    0.002004  0.003739  0.969713\n",
       "2017-01-03 15:30:00 -0.008516  1.212756    0.002479 -0.010592  1.432389\n",
       "2017-01-03 15:45:00  0.003238  4.798810    0.005139 -0.000370  4.572557"
      ]
     },
     "execution_count": 16,
     "metadata": {},
     "output_type": "execute_result"
    }
   ],
   "source": [
    "list_of_df_by_stock_by_day[0].tail()"
   ]
  },
  {
   "cell_type": "code",
   "execution_count": 17,
   "metadata": {},
   "outputs": [],
   "source": [
    "window_size = 13\n",
    "\n",
    "def get_list_of_window_sized_df(df):\n",
    "    return [df.iloc[i: i + window_size] for i in range(len(df.index) - window_size + 1)]"
   ]
  },
  {
   "cell_type": "code",
   "execution_count": 18,
   "metadata": {},
   "outputs": [],
   "source": [
    "list_of_df_by_stock_by_window = [get_list_of_window_sized_df(x) \n",
    "                                 for x in list_of_df_by_stock_by_day]"
   ]
  },
  {
   "cell_type": "code",
   "execution_count": 19,
   "metadata": {},
   "outputs": [],
   "source": [
    "list_of_df_by_stock_by_window_flatten = [window \n",
    "                                         for by_stock_by_day in list_of_df_by_stock_by_window\n",
    "                                         for window in by_stock_by_day]"
   ]
  },
  {
   "cell_type": "code",
   "execution_count": 20,
   "metadata": {},
   "outputs": [
    {
     "data": {
      "text/html": [
       "<div>\n",
       "<style scoped>\n",
       "    .dataframe tbody tr th:only-of-type {\n",
       "        vertical-align: middle;\n",
       "    }\n",
       "\n",
       "    .dataframe tbody tr th {\n",
       "        vertical-align: top;\n",
       "    }\n",
       "\n",
       "    .dataframe thead th {\n",
       "        text-align: right;\n",
       "    }\n",
       "</style>\n",
       "<table border=\"1\" class=\"dataframe\">\n",
       "  <thead>\n",
       "    <tr style=\"text-align: right;\">\n",
       "      <th></th>\n",
       "      <th>return</th>\n",
       "      <th>volume</th>\n",
       "      <th>volatility</th>\n",
       "      <th>signal_A</th>\n",
       "      <th>signal_B</th>\n",
       "    </tr>\n",
       "    <tr>\n",
       "      <th>time</th>\n",
       "      <th></th>\n",
       "      <th></th>\n",
       "      <th></th>\n",
       "      <th></th>\n",
       "      <th></th>\n",
       "    </tr>\n",
       "  </thead>\n",
       "  <tbody>\n",
       "    <tr>\n",
       "      <th>2017-01-03 09:30:00</th>\n",
       "      <td>0.000000</td>\n",
       "      <td>1.357828</td>\n",
       "      <td>0.011823</td>\n",
       "      <td>NaN</td>\n",
       "      <td>NaN</td>\n",
       "    </tr>\n",
       "    <tr>\n",
       "      <th>2017-01-03 09:45:00</th>\n",
       "      <td>-0.010530</td>\n",
       "      <td>0.840949</td>\n",
       "      <td>0.003595</td>\n",
       "      <td>-0.012937</td>\n",
       "      <td>NaN</td>\n",
       "    </tr>\n",
       "    <tr>\n",
       "      <th>2017-01-03 10:00:00</th>\n",
       "      <td>-0.005218</td>\n",
       "      <td>1.191392</td>\n",
       "      <td>0.005506</td>\n",
       "      <td>-0.004742</td>\n",
       "      <td>NaN</td>\n",
       "    </tr>\n",
       "    <tr>\n",
       "      <th>2017-01-03 10:15:00</th>\n",
       "      <td>0.004456</td>\n",
       "      <td>0.554745</td>\n",
       "      <td>0.004171</td>\n",
       "      <td>-0.001138</td>\n",
       "      <td>NaN</td>\n",
       "    </tr>\n",
       "    <tr>\n",
       "      <th>2017-01-03 10:30:00</th>\n",
       "      <td>-0.001799</td>\n",
       "      <td>0.484170</td>\n",
       "      <td>0.004360</td>\n",
       "      <td>0.003315</td>\n",
       "      <td>NaN</td>\n",
       "    </tr>\n",
       "    <tr>\n",
       "      <th>2017-01-03 10:45:00</th>\n",
       "      <td>-0.001767</td>\n",
       "      <td>0.742527</td>\n",
       "      <td>0.002465</td>\n",
       "      <td>-0.004975</td>\n",
       "      <td>NaN</td>\n",
       "    </tr>\n",
       "    <tr>\n",
       "      <th>2017-01-03 11:00:00</th>\n",
       "      <td>0.000046</td>\n",
       "      <td>1.119380</td>\n",
       "      <td>0.003421</td>\n",
       "      <td>0.002896</td>\n",
       "      <td>NaN</td>\n",
       "    </tr>\n",
       "    <tr>\n",
       "      <th>2017-01-03 11:15:00</th>\n",
       "      <td>0.004687</td>\n",
       "      <td>0.694956</td>\n",
       "      <td>0.001901</td>\n",
       "      <td>0.003925</td>\n",
       "      <td>NaN</td>\n",
       "    </tr>\n",
       "    <tr>\n",
       "      <th>2017-01-03 11:30:00</th>\n",
       "      <td>-0.003899</td>\n",
       "      <td>0.841778</td>\n",
       "      <td>0.003386</td>\n",
       "      <td>-0.004027</td>\n",
       "      <td>NaN</td>\n",
       "    </tr>\n",
       "    <tr>\n",
       "      <th>2017-01-03 11:45:00</th>\n",
       "      <td>-0.003412</td>\n",
       "      <td>1.025858</td>\n",
       "      <td>0.003048</td>\n",
       "      <td>-0.004419</td>\n",
       "      <td>1.158692</td>\n",
       "    </tr>\n",
       "    <tr>\n",
       "      <th>2017-01-03 12:00:00</th>\n",
       "      <td>0.010763</td>\n",
       "      <td>0.669963</td>\n",
       "      <td>0.003621</td>\n",
       "      <td>0.010186</td>\n",
       "      <td>0.773829</td>\n",
       "    </tr>\n",
       "    <tr>\n",
       "      <th>2017-01-03 12:15:00</th>\n",
       "      <td>-0.016368</td>\n",
       "      <td>0.639004</td>\n",
       "      <td>0.002473</td>\n",
       "      <td>-0.015863</td>\n",
       "      <td>0.754540</td>\n",
       "    </tr>\n",
       "    <tr>\n",
       "      <th>2017-01-03 12:30:00</th>\n",
       "      <td>-0.000867</td>\n",
       "      <td>1.838923</td>\n",
       "      <td>0.003239</td>\n",
       "      <td>-0.000525</td>\n",
       "      <td>1.991922</td>\n",
       "    </tr>\n",
       "  </tbody>\n",
       "</table>\n",
       "</div>"
      ],
      "text/plain": [
       "                       return    volume  volatility  signal_A  signal_B\n",
       "time                                                                   \n",
       "2017-01-03 09:30:00  0.000000  1.357828    0.011823       NaN       NaN\n",
       "2017-01-03 09:45:00 -0.010530  0.840949    0.003595 -0.012937       NaN\n",
       "2017-01-03 10:00:00 -0.005218  1.191392    0.005506 -0.004742       NaN\n",
       "2017-01-03 10:15:00  0.004456  0.554745    0.004171 -0.001138       NaN\n",
       "2017-01-03 10:30:00 -0.001799  0.484170    0.004360  0.003315       NaN\n",
       "2017-01-03 10:45:00 -0.001767  0.742527    0.002465 -0.004975       NaN\n",
       "2017-01-03 11:00:00  0.000046  1.119380    0.003421  0.002896       NaN\n",
       "2017-01-03 11:15:00  0.004687  0.694956    0.001901  0.003925       NaN\n",
       "2017-01-03 11:30:00 -0.003899  0.841778    0.003386 -0.004027       NaN\n",
       "2017-01-03 11:45:00 -0.003412  1.025858    0.003048 -0.004419  1.158692\n",
       "2017-01-03 12:00:00  0.010763  0.669963    0.003621  0.010186  0.773829\n",
       "2017-01-03 12:15:00 -0.016368  0.639004    0.002473 -0.015863  0.754540\n",
       "2017-01-03 12:30:00 -0.000867  1.838923    0.003239 -0.000525  1.991922"
      ]
     },
     "execution_count": 20,
     "metadata": {},
     "output_type": "execute_result"
    }
   ],
   "source": [
    "list_of_df_by_stock_by_window_flatten[0]"
   ]
  },
  {
   "cell_type": "code",
   "execution_count": 30,
   "metadata": {},
   "outputs": [],
   "source": [
    "# Will take 3 hours\n",
    "# Use window.reset_index().unstack().to_frame().T will take 5 hours\n",
    "list_of_df_by_stock_by_window_flatten_reindexed_unstacked = \\\n",
    "    [window.reset_index().unstack()\n",
    "     for window in list_of_df_by_stock_by_window_flatten]"
   ]
  },
  {
   "cell_type": "code",
   "execution_count": 37,
   "metadata": {},
   "outputs": [],
   "source": [
    "# Will take 2 hours\n",
    "tidy_table = pd.concat(list_of_df_by_stock_by_window_flatten_reindexed_unstacked, axis=1).T"
   ]
  },
  {
   "cell_type": "code",
   "execution_count": 40,
   "metadata": {},
   "outputs": [
    {
     "data": {
      "text/plain": [
       "(3506000, 78)"
      ]
     },
     "execution_count": 40,
     "metadata": {},
     "output_type": "execute_result"
    }
   ],
   "source": [
    "tidy_table.shape"
   ]
  },
  {
   "cell_type": "code",
   "execution_count": 42,
   "metadata": {},
   "outputs": [
    {
     "data": {
      "text/html": [
       "<div>\n",
       "<style scoped>\n",
       "    .dataframe tbody tr th:only-of-type {\n",
       "        vertical-align: middle;\n",
       "    }\n",
       "\n",
       "    .dataframe tbody tr th {\n",
       "        vertical-align: top;\n",
       "    }\n",
       "\n",
       "    .dataframe thead tr th {\n",
       "        text-align: left;\n",
       "    }\n",
       "</style>\n",
       "<table border=\"1\" class=\"dataframe\">\n",
       "  <thead>\n",
       "    <tr>\n",
       "      <th></th>\n",
       "      <th colspan=\"10\" halign=\"left\">time</th>\n",
       "      <th>...</th>\n",
       "      <th colspan=\"10\" halign=\"left\">signal_B</th>\n",
       "    </tr>\n",
       "    <tr>\n",
       "      <th></th>\n",
       "      <th>0</th>\n",
       "      <th>1</th>\n",
       "      <th>2</th>\n",
       "      <th>3</th>\n",
       "      <th>4</th>\n",
       "      <th>5</th>\n",
       "      <th>6</th>\n",
       "      <th>7</th>\n",
       "      <th>8</th>\n",
       "      <th>9</th>\n",
       "      <th>...</th>\n",
       "      <th>3</th>\n",
       "      <th>4</th>\n",
       "      <th>5</th>\n",
       "      <th>6</th>\n",
       "      <th>7</th>\n",
       "      <th>8</th>\n",
       "      <th>9</th>\n",
       "      <th>10</th>\n",
       "      <th>11</th>\n",
       "      <th>12</th>\n",
       "    </tr>\n",
       "  </thead>\n",
       "  <tbody>\n",
       "    <tr>\n",
       "      <th>0</th>\n",
       "      <td>2017-01-03 09:30:00</td>\n",
       "      <td>2017-01-03 09:45:00</td>\n",
       "      <td>2017-01-03 10:00:00</td>\n",
       "      <td>2017-01-03 10:15:00</td>\n",
       "      <td>2017-01-03 10:30:00</td>\n",
       "      <td>2017-01-03 10:45:00</td>\n",
       "      <td>2017-01-03 11:00:00</td>\n",
       "      <td>2017-01-03 11:15:00</td>\n",
       "      <td>2017-01-03 11:30:00</td>\n",
       "      <td>2017-01-03 11:45:00</td>\n",
       "      <td>...</td>\n",
       "      <td>NaN</td>\n",
       "      <td>NaN</td>\n",
       "      <td>NaN</td>\n",
       "      <td>NaN</td>\n",
       "      <td>NaN</td>\n",
       "      <td>NaN</td>\n",
       "      <td>1.15869</td>\n",
       "      <td>0.773829</td>\n",
       "      <td>0.75454</td>\n",
       "      <td>1.99192</td>\n",
       "    </tr>\n",
       "    <tr>\n",
       "      <th>1</th>\n",
       "      <td>2017-01-03 09:45:00</td>\n",
       "      <td>2017-01-03 10:00:00</td>\n",
       "      <td>2017-01-03 10:15:00</td>\n",
       "      <td>2017-01-03 10:30:00</td>\n",
       "      <td>2017-01-03 10:45:00</td>\n",
       "      <td>2017-01-03 11:00:00</td>\n",
       "      <td>2017-01-03 11:15:00</td>\n",
       "      <td>2017-01-03 11:30:00</td>\n",
       "      <td>2017-01-03 11:45:00</td>\n",
       "      <td>2017-01-03 12:00:00</td>\n",
       "      <td>...</td>\n",
       "      <td>NaN</td>\n",
       "      <td>NaN</td>\n",
       "      <td>NaN</td>\n",
       "      <td>NaN</td>\n",
       "      <td>NaN</td>\n",
       "      <td>1.15869</td>\n",
       "      <td>0.773829</td>\n",
       "      <td>0.75454</td>\n",
       "      <td>1.99192</td>\n",
       "      <td>0.594899</td>\n",
       "    </tr>\n",
       "    <tr>\n",
       "      <th>2</th>\n",
       "      <td>2017-01-03 10:00:00</td>\n",
       "      <td>2017-01-03 10:15:00</td>\n",
       "      <td>2017-01-03 10:30:00</td>\n",
       "      <td>2017-01-03 10:45:00</td>\n",
       "      <td>2017-01-03 11:00:00</td>\n",
       "      <td>2017-01-03 11:15:00</td>\n",
       "      <td>2017-01-03 11:30:00</td>\n",
       "      <td>2017-01-03 11:45:00</td>\n",
       "      <td>2017-01-03 12:00:00</td>\n",
       "      <td>2017-01-03 12:15:00</td>\n",
       "      <td>...</td>\n",
       "      <td>NaN</td>\n",
       "      <td>NaN</td>\n",
       "      <td>NaN</td>\n",
       "      <td>NaN</td>\n",
       "      <td>1.15869</td>\n",
       "      <td>0.773829</td>\n",
       "      <td>0.75454</td>\n",
       "      <td>1.99192</td>\n",
       "      <td>0.594899</td>\n",
       "      <td>0.799001</td>\n",
       "    </tr>\n",
       "    <tr>\n",
       "      <th>3</th>\n",
       "      <td>2017-01-03 10:15:00</td>\n",
       "      <td>2017-01-03 10:30:00</td>\n",
       "      <td>2017-01-03 10:45:00</td>\n",
       "      <td>2017-01-03 11:00:00</td>\n",
       "      <td>2017-01-03 11:15:00</td>\n",
       "      <td>2017-01-03 11:30:00</td>\n",
       "      <td>2017-01-03 11:45:00</td>\n",
       "      <td>2017-01-03 12:00:00</td>\n",
       "      <td>2017-01-03 12:15:00</td>\n",
       "      <td>2017-01-03 12:30:00</td>\n",
       "      <td>...</td>\n",
       "      <td>NaN</td>\n",
       "      <td>NaN</td>\n",
       "      <td>NaN</td>\n",
       "      <td>1.15869</td>\n",
       "      <td>0.773829</td>\n",
       "      <td>0.75454</td>\n",
       "      <td>1.99192</td>\n",
       "      <td>0.594899</td>\n",
       "      <td>0.799001</td>\n",
       "      <td>0.47083</td>\n",
       "    </tr>\n",
       "    <tr>\n",
       "      <th>4</th>\n",
       "      <td>2017-01-03 10:30:00</td>\n",
       "      <td>2017-01-03 10:45:00</td>\n",
       "      <td>2017-01-03 11:00:00</td>\n",
       "      <td>2017-01-03 11:15:00</td>\n",
       "      <td>2017-01-03 11:30:00</td>\n",
       "      <td>2017-01-03 11:45:00</td>\n",
       "      <td>2017-01-03 12:00:00</td>\n",
       "      <td>2017-01-03 12:15:00</td>\n",
       "      <td>2017-01-03 12:30:00</td>\n",
       "      <td>2017-01-03 12:45:00</td>\n",
       "      <td>...</td>\n",
       "      <td>NaN</td>\n",
       "      <td>NaN</td>\n",
       "      <td>1.15869</td>\n",
       "      <td>0.773829</td>\n",
       "      <td>0.75454</td>\n",
       "      <td>1.99192</td>\n",
       "      <td>0.594899</td>\n",
       "      <td>0.799001</td>\n",
       "      <td>0.47083</td>\n",
       "      <td>0.701983</td>\n",
       "    </tr>\n",
       "  </tbody>\n",
       "</table>\n",
       "<p>5 rows × 78 columns</p>\n",
       "</div>"
      ],
      "text/plain": [
       "                  time                                            \\\n",
       "                    0                    1                    2    \n",
       "0  2017-01-03 09:30:00  2017-01-03 09:45:00  2017-01-03 10:00:00   \n",
       "1  2017-01-03 09:45:00  2017-01-03 10:00:00  2017-01-03 10:15:00   \n",
       "2  2017-01-03 10:00:00  2017-01-03 10:15:00  2017-01-03 10:30:00   \n",
       "3  2017-01-03 10:15:00  2017-01-03 10:30:00  2017-01-03 10:45:00   \n",
       "4  2017-01-03 10:30:00  2017-01-03 10:45:00  2017-01-03 11:00:00   \n",
       "\n",
       "                                                                  \\\n",
       "                    3                    4                    5    \n",
       "0  2017-01-03 10:15:00  2017-01-03 10:30:00  2017-01-03 10:45:00   \n",
       "1  2017-01-03 10:30:00  2017-01-03 10:45:00  2017-01-03 11:00:00   \n",
       "2  2017-01-03 10:45:00  2017-01-03 11:00:00  2017-01-03 11:15:00   \n",
       "3  2017-01-03 11:00:00  2017-01-03 11:15:00  2017-01-03 11:30:00   \n",
       "4  2017-01-03 11:15:00  2017-01-03 11:30:00  2017-01-03 11:45:00   \n",
       "\n",
       "                                                                  \\\n",
       "                    6                    7                    8    \n",
       "0  2017-01-03 11:00:00  2017-01-03 11:15:00  2017-01-03 11:30:00   \n",
       "1  2017-01-03 11:15:00  2017-01-03 11:30:00  2017-01-03 11:45:00   \n",
       "2  2017-01-03 11:30:00  2017-01-03 11:45:00  2017-01-03 12:00:00   \n",
       "3  2017-01-03 11:45:00  2017-01-03 12:00:00  2017-01-03 12:15:00   \n",
       "4  2017-01-03 12:00:00  2017-01-03 12:15:00  2017-01-03 12:30:00   \n",
       "\n",
       "                          ...    signal_B                                    \\\n",
       "                    9     ...          3    4        5         6         7    \n",
       "0  2017-01-03 11:45:00    ...         NaN  NaN      NaN       NaN       NaN   \n",
       "1  2017-01-03 12:00:00    ...         NaN  NaN      NaN       NaN       NaN   \n",
       "2  2017-01-03 12:15:00    ...         NaN  NaN      NaN       NaN   1.15869   \n",
       "3  2017-01-03 12:30:00    ...         NaN  NaN      NaN   1.15869  0.773829   \n",
       "4  2017-01-03 12:45:00    ...         NaN  NaN  1.15869  0.773829   0.75454   \n",
       "\n",
       "                                                     \n",
       "         8         9         10        11        12  \n",
       "0       NaN   1.15869  0.773829   0.75454   1.99192  \n",
       "1   1.15869  0.773829   0.75454   1.99192  0.594899  \n",
       "2  0.773829   0.75454   1.99192  0.594899  0.799001  \n",
       "3   0.75454   1.99192  0.594899  0.799001   0.47083  \n",
       "4   1.99192  0.594899  0.799001   0.47083  0.701983  \n",
       "\n",
       "[5 rows x 78 columns]"
      ]
     },
     "execution_count": 42,
     "metadata": {},
     "output_type": "execute_result"
    }
   ],
   "source": [
    "tidy_table.head()"
   ]
  },
  {
   "cell_type": "code",
   "execution_count": 41,
   "metadata": {},
   "outputs": [],
   "source": [
    "with open('tidy_table.pickle', 'wb') as handle:\n",
    "    pickle.dump(tidy_table, handle, protocol = pickle.HIGHEST_PROTOCOL)\n",
    "\n",
    "#with open('tidy_table.pickle', 'rb') as handle:\n",
    "#    tidy_table = pickle.load(handle)"
   ]
  },
  {
   "cell_type": "code",
   "execution_count": 43,
   "metadata": {},
   "outputs": [],
   "source": [
    "tidy_table.columns = [col[0] + '_' + str(col[1]) for col in tidy_table.columns.values]"
   ]
  },
  {
   "cell_type": "code",
   "execution_count": 44,
   "metadata": {},
   "outputs": [],
   "source": [
    "tidy_table_dropped = tidy_table.drop(['time_0', 'time_1', 'time_2', 'time_3', 'time_4', 'time_5',\n",
    "                                      'time_6', 'time_7', 'time_8', 'time_9', 'time_10', 'time_11',\n",
    "                                      'volume_12', 'volatility_12', 'signal_A_12', 'signal_B_12'], axis = 1)\\\n",
    "                               .dropna(axis = 0)"
   ]
  },
  {
   "cell_type": "code",
   "execution_count": 45,
   "metadata": {},
   "outputs": [
    {
     "data": {
      "text/plain": [
       "(3005859, 62)"
      ]
     },
     "execution_count": 45,
     "metadata": {},
     "output_type": "execute_result"
    }
   ],
   "source": [
    "tidy_table_dropped.shape"
   ]
  },
  {
   "cell_type": "code",
   "execution_count": 46,
   "metadata": {},
   "outputs": [
    {
     "data": {
      "text/plain": [
       "array(['time_12', 'return_0', 'return_1', 'return_2', 'return_3',\n",
       "       'return_4', 'return_5', 'return_6', 'return_7', 'return_8',\n",
       "       'return_9', 'return_10', 'return_11', 'return_12', 'volume_0',\n",
       "       'volume_1', 'volume_2', 'volume_3', 'volume_4', 'volume_5',\n",
       "       'volume_6', 'volume_7', 'volume_8', 'volume_9', 'volume_10',\n",
       "       'volume_11', 'volatility_0', 'volatility_1', 'volatility_2',\n",
       "       'volatility_3', 'volatility_4', 'volatility_5', 'volatility_6',\n",
       "       'volatility_7', 'volatility_8', 'volatility_9', 'volatility_10',\n",
       "       'volatility_11', 'signal_A_0', 'signal_A_1', 'signal_A_2',\n",
       "       'signal_A_3', 'signal_A_4', 'signal_A_5', 'signal_A_6',\n",
       "       'signal_A_7', 'signal_A_8', 'signal_A_9', 'signal_A_10',\n",
       "       'signal_A_11', 'signal_B_0', 'signal_B_1', 'signal_B_2',\n",
       "       'signal_B_3', 'signal_B_4', 'signal_B_5', 'signal_B_6',\n",
       "       'signal_B_7', 'signal_B_8', 'signal_B_9', 'signal_B_10',\n",
       "       'signal_B_11'], dtype=object)"
      ]
     },
     "execution_count": 46,
     "metadata": {},
     "output_type": "execute_result"
    }
   ],
   "source": [
    "tidy_table_dropped.columns.values"
   ]
  },
  {
   "cell_type": "code",
   "execution_count": 89,
   "metadata": {},
   "outputs": [],
   "source": [
    "tidy_more_features = tidy_table_dropped.assign(hour = lambda x: x[\"time_12\"].apply(lambda x: x.hour),\n",
    "                                               dayofweek = lambda x: x[\"time_12\"].apply(lambda x: x.dayofweek))\n",
    "\n",
    "tidy_more_features[\"return_0_1\"] = tidy_more_features[\"return_0\"] + tidy_more_features[\"return_1\"]\n",
    "tidy_more_features[\"return_1_2\"] = tidy_more_features[\"return_1\"] + tidy_more_features[\"return_2\"]\n",
    "tidy_more_features[\"return_2_3\"] = tidy_more_features[\"return_2\"] + tidy_more_features[\"return_3\"]\n",
    "tidy_more_features[\"return_3_4\"] = tidy_more_features[\"return_3\"] + tidy_more_features[\"return_4\"]\n",
    "tidy_more_features[\"return_4_5\"] = tidy_more_features[\"return_4\"] + tidy_more_features[\"return_5\"]\n",
    "tidy_more_features[\"return_5_6\"] = tidy_more_features[\"return_5\"] + tidy_more_features[\"return_6\"]\n",
    "tidy_more_features[\"return_6_7\"] = tidy_more_features[\"return_6\"] + tidy_more_features[\"return_7\"]\n",
    "tidy_more_features[\"return_7_8\"] = tidy_more_features[\"return_7\"] + tidy_more_features[\"return_8\"]\n",
    "tidy_more_features[\"return_8_9\"] = tidy_more_features[\"return_8\"] + tidy_more_features[\"return_9\"]\n",
    "tidy_more_features[\"return_9_10\"] = tidy_more_features[\"return_9\"] + tidy_more_features[\"return_10\"]\n",
    "tidy_more_features[\"return_10_11\"] = tidy_more_features[\"return_10\"] + tidy_more_features[\"return_11\"]\n",
    "\n",
    "tidy_more_features[\"volume_0_1\"] = tidy_more_features[\"volume_0\"] + tidy_more_features[\"volume_1\"]\n",
    "tidy_more_features[\"volume_1_2\"] = tidy_more_features[\"volume_1\"] + tidy_more_features[\"volume_2\"]\n",
    "tidy_more_features[\"volume_2_3\"] = tidy_more_features[\"volume_2\"] + tidy_more_features[\"volume_3\"]\n",
    "tidy_more_features[\"volume_3_4\"] = tidy_more_features[\"volume_3\"] + tidy_more_features[\"volume_4\"]\n",
    "tidy_more_features[\"volume_4_5\"] = tidy_more_features[\"volume_4\"] + tidy_more_features[\"volume_5\"]\n",
    "tidy_more_features[\"volume_5_6\"] = tidy_more_features[\"volume_5\"] + tidy_more_features[\"volume_6\"]\n",
    "tidy_more_features[\"volume_6_7\"] = tidy_more_features[\"volume_6\"] + tidy_more_features[\"volume_7\"]\n",
    "tidy_more_features[\"volume_7_8\"] = tidy_more_features[\"volume_7\"] + tidy_more_features[\"volume_8\"]\n",
    "tidy_more_features[\"volume_8_9\"] = tidy_more_features[\"volume_8\"] + tidy_more_features[\"volume_9\"]\n",
    "tidy_more_features[\"volume_9_10\"] = tidy_more_features[\"volume_9\"] + tidy_more_features[\"volume_10\"]\n",
    "tidy_more_features[\"volume_10_11\"] = tidy_more_features[\"volume_10\"] + tidy_more_features[\"volume_11\"]\n",
    "\n",
    "tidy_more_features[\"volatility_0_1\"] = tidy_more_features[\"volatility_0\"] + tidy_more_features[\"volatility_1\"]\n",
    "tidy_more_features[\"volatility_1_2\"] = tidy_more_features[\"volatility_1\"] + tidy_more_features[\"volatility_2\"]\n",
    "tidy_more_features[\"volatility_2_3\"] = tidy_more_features[\"volatility_2\"] + tidy_more_features[\"volatility_3\"]\n",
    "tidy_more_features[\"volatility_3_4\"] = tidy_more_features[\"volatility_3\"] + tidy_more_features[\"volatility_4\"]\n",
    "tidy_more_features[\"volatility_4_5\"] = tidy_more_features[\"volatility_4\"] + tidy_more_features[\"volatility_5\"]\n",
    "tidy_more_features[\"volatility_5_6\"] = tidy_more_features[\"volatility_5\"] + tidy_more_features[\"volatility_6\"]\n",
    "tidy_more_features[\"volatility_6_7\"] = tidy_more_features[\"volatility_6\"] + tidy_more_features[\"volatility_7\"]\n",
    "tidy_more_features[\"volatility_7_8\"] = tidy_more_features[\"volatility_7\"] + tidy_more_features[\"volatility_8\"]\n",
    "tidy_more_features[\"volatility_8_9\"] = tidy_more_features[\"volatility_8\"] + tidy_more_features[\"volatility_9\"]\n",
    "tidy_more_features[\"volatility_9_10\"] = tidy_more_features[\"volatility_9\"] + tidy_more_features[\"volatility_10\"]\n",
    "tidy_more_features[\"volatility_10_11\"] = tidy_more_features[\"volatility_10\"] + tidy_more_features[\"volatility_11\"]\n",
    "\n",
    "tidy_more_features[\"signal_A_0_1\"] = tidy_more_features[\"signal_A_0\"] + tidy_more_features[\"signal_A_1\"]\n",
    "tidy_more_features[\"signal_A_1_2\"] = tidy_more_features[\"signal_A_1\"] + tidy_more_features[\"signal_A_2\"]\n",
    "tidy_more_features[\"signal_A_2_3\"] = tidy_more_features[\"signal_A_2\"] + tidy_more_features[\"signal_A_3\"]\n",
    "tidy_more_features[\"signal_A_3_4\"] = tidy_more_features[\"signal_A_3\"] + tidy_more_features[\"signal_A_4\"]\n",
    "tidy_more_features[\"signal_A_4_5\"] = tidy_more_features[\"signal_A_4\"] + tidy_more_features[\"signal_A_5\"]\n",
    "tidy_more_features[\"signal_A_5_6\"] = tidy_more_features[\"signal_A_5\"] + tidy_more_features[\"signal_A_6\"]\n",
    "tidy_more_features[\"signal_A_6_7\"] = tidy_more_features[\"signal_A_6\"] + tidy_more_features[\"signal_A_7\"]\n",
    "tidy_more_features[\"signal_A_7_8\"] = tidy_more_features[\"signal_A_7\"] + tidy_more_features[\"signal_A_8\"]\n",
    "tidy_more_features[\"signal_A_8_9\"] = tidy_more_features[\"signal_A_8\"] + tidy_more_features[\"signal_A_9\"]\n",
    "tidy_more_features[\"signal_A_9_10\"] = tidy_more_features[\"signal_A_9\"] + tidy_more_features[\"signal_A_10\"]\n",
    "tidy_more_features[\"signal_A_10_11\"] = tidy_more_features[\"signal_A_10\"] + tidy_more_features[\"signal_A_11\"]\n",
    "\n",
    "tidy_more_features[\"signal_B_0_1\"] = tidy_more_features[\"signal_B_0\"] + tidy_more_features[\"signal_B_1\"]\n",
    "tidy_more_features[\"signal_B_1_2\"] = tidy_more_features[\"signal_B_1\"] + tidy_more_features[\"signal_B_2\"]\n",
    "tidy_more_features[\"signal_B_2_3\"] = tidy_more_features[\"signal_B_2\"] + tidy_more_features[\"signal_B_3\"]\n",
    "tidy_more_features[\"signal_B_3_4\"] = tidy_more_features[\"signal_B_3\"] + tidy_more_features[\"signal_B_4\"]\n",
    "tidy_more_features[\"signal_B_4_5\"] = tidy_more_features[\"signal_B_4\"] + tidy_more_features[\"signal_B_5\"]\n",
    "tidy_more_features[\"signal_B_5_6\"] = tidy_more_features[\"signal_B_5\"] + tidy_more_features[\"signal_B_6\"]\n",
    "tidy_more_features[\"signal_B_6_7\"] = tidy_more_features[\"signal_B_6\"] + tidy_more_features[\"signal_B_7\"]\n",
    "tidy_more_features[\"signal_B_7_8\"] = tidy_more_features[\"signal_B_7\"] + tidy_more_features[\"signal_B_8\"]\n",
    "tidy_more_features[\"signal_B_8_9\"] = tidy_more_features[\"signal_B_8\"] + tidy_more_features[\"signal_B_9\"]\n",
    "tidy_more_features[\"signal_B_9_10\"] = tidy_more_features[\"signal_B_9\"] + tidy_more_features[\"signal_B_10\"]\n",
    "tidy_more_features[\"signal_B_10_11\"] = tidy_more_features[\"signal_B_10\"] + tidy_more_features[\"signal_B_11\"]\n",
    "\n"
   ]
  },
  {
   "cell_type": "code",
   "execution_count": 90,
   "metadata": {},
   "outputs": [],
   "source": [
    "tidy_more_features = tidy_more_features.drop(\n",
    "      ['return_0', 'return_1', 'return_2', 'return_3', 'return_4', 'return_5', \n",
    "       'return_6', 'return_7', 'return_8', 'return_9', 'return_10',                         \n",
    "       'volume_0', 'volume_1', 'volume_2', 'volume_3', 'volume_4', 'volume_5',\n",
    "       'volume_6', 'volume_7', 'volume_8', 'volume_9', 'volume_10',\n",
    "       'volatility_0', 'volatility_1', 'volatility_2', 'volatility_3', 'volatility_4', 'volatility_5', \n",
    "       'volatility_6', 'volatility_7', 'volatility_8', 'volatility_9', 'volatility_10',\n",
    "       'signal_A_0', 'signal_A_1', 'signal_A_2', 'signal_A_3', 'signal_A_4', 'signal_A_5', \n",
    "       'signal_A_6', 'signal_A_7', 'signal_A_8', 'signal_A_9', 'signal_A_10',\n",
    "       'signal_B_0', 'signal_B_1', 'signal_B_2', 'signal_B_3', 'signal_B_4', 'signal_B_5', \n",
    "       'signal_B_6', 'signal_B_7', 'signal_B_8', 'signal_B_9', 'signal_B_10'\n",
    "      ], axis = 1)"
   ]
  },
  {
   "cell_type": "code",
   "execution_count": 91,
   "metadata": {},
   "outputs": [
    {
     "data": {
      "text/plain": [
       "(3005859, 64)"
      ]
     },
     "execution_count": 91,
     "metadata": {},
     "output_type": "execute_result"
    }
   ],
   "source": [
    "tidy_more_features.shape"
   ]
  },
  {
   "cell_type": "code",
   "execution_count": 92,
   "metadata": {},
   "outputs": [],
   "source": [
    "tidy_more_features = tidy_more_features.reset_index(drop = True)\n",
    "end_of_aug = datetime.strptime('2017-08-31 15:45:00', '%Y-%m-%d %H:%M:%S')\n",
    "train_data = tidy_more_features.loc[tidy_more_features['time_12'] <= end_of_aug]\n",
    "test_data = tidy_more_features.loc[tidy_more_features['time_12'] > end_of_aug]"
   ]
  },
  {
   "cell_type": "code",
   "execution_count": 93,
   "metadata": {},
   "outputs": [],
   "source": [
    "train_data = train_data.drop(\"time_12\", axis = 1)\n",
    "test_data = test_data.drop(\"time_12\", axis = 1)"
   ]
  },
  {
   "cell_type": "code",
   "execution_count": 94,
   "metadata": {},
   "outputs": [
    {
     "data": {
      "text/plain": [
       "(2014204, 63)"
      ]
     },
     "execution_count": 94,
     "metadata": {},
     "output_type": "execute_result"
    }
   ],
   "source": [
    "train_data.shape"
   ]
  },
  {
   "cell_type": "code",
   "execution_count": 95,
   "metadata": {},
   "outputs": [
    {
     "data": {
      "text/plain": [
       "(991655, 63)"
      ]
     },
     "execution_count": 95,
     "metadata": {},
     "output_type": "execute_result"
    }
   ],
   "source": [
    "test_data.shape"
   ]
  },
  {
   "cell_type": "code",
   "execution_count": 96,
   "metadata": {},
   "outputs": [
    {
     "data": {
      "text/plain": [
       "array(['return_11', 'return_12', 'volume_11', 'volatility_11',\n",
       "       'signal_A_11', 'signal_B_11', 'hour', 'dayofweek', 'return_0_1',\n",
       "       'return_1_2', 'return_2_3', 'return_3_4', 'return_4_5',\n",
       "       'return_5_6', 'return_6_7', 'return_7_8', 'return_8_9',\n",
       "       'return_9_10', 'return_10_11', 'volume_0_1', 'volume_1_2',\n",
       "       'volume_2_3', 'volume_3_4', 'volume_4_5', 'volume_5_6',\n",
       "       'volume_6_7', 'volume_7_8', 'volume_8_9', 'volume_9_10',\n",
       "       'volume_10_11', 'volatility_0_1', 'volatility_1_2',\n",
       "       'volatility_2_3', 'volatility_3_4', 'volatility_4_5',\n",
       "       'volatility_5_6', 'volatility_6_7', 'volatility_7_8',\n",
       "       'volatility_8_9', 'volatility_9_10', 'volatility_10_11',\n",
       "       'signal_A_0_1', 'signal_A_1_2', 'signal_A_2_3', 'signal_A_3_4',\n",
       "       'signal_A_4_5', 'signal_A_5_6', 'signal_A_6_7', 'signal_A_7_8',\n",
       "       'signal_A_8_9', 'signal_A_9_10', 'signal_A_10_11', 'signal_B_0_1',\n",
       "       'signal_B_1_2', 'signal_B_2_3', 'signal_B_3_4', 'signal_B_4_5',\n",
       "       'signal_B_5_6', 'signal_B_6_7', 'signal_B_7_8', 'signal_B_8_9',\n",
       "       'signal_B_9_10', 'signal_B_10_11'], dtype=object)"
      ]
     },
     "execution_count": 96,
     "metadata": {},
     "output_type": "execute_result"
    }
   ],
   "source": [
    "train_data.columns.values"
   ]
  },
  {
   "cell_type": "code",
   "execution_count": null,
   "metadata": {},
   "outputs": [],
   "source": []
  },
  {
   "cell_type": "code",
   "execution_count": null,
   "metadata": {},
   "outputs": [],
   "source": [
    "params = {\n",
    "    \"max_features\" : [\"auto\", \"sqrt\", \"log2\"]\n",
    "    \"max_depth\" : [15, 25, 35]\n",
    "    \"min_samples_split\" : [2, 3, 5]\n",
    "    \"min_samples_leaf\" : [1, 2, 3]\n",
    "}\n",
    "\n",
    "model = XGBClassifier(n_jobs = -1) # nthread deprecated\n",
    "\n",
    "gs = RandomizedSearchCV(model, params, n_jobs=-1, n_iter=12)\n",
    "\n",
    "#gs.fit(X_train, y_train.iloc[:,0]) \n",
    "gs.fit(train_data.loc[:, train_data.columns != \"return_12\"], train_data.loc[:, \"return_12\"])"
   ]
  },
  {
   "cell_type": "code",
   "execution_count": null,
   "metadata": {},
   "outputs": [],
   "source": []
  },
  {
   "cell_type": "code",
   "execution_count": null,
   "metadata": {},
   "outputs": [],
   "source": []
  },
  {
   "cell_type": "code",
   "execution_count": null,
   "metadata": {},
   "outputs": [],
   "source": []
  },
  {
   "cell_type": "code",
   "execution_count": null,
   "metadata": {},
   "outputs": [],
   "source": []
  },
  {
   "cell_type": "code",
   "execution_count": null,
   "metadata": {},
   "outputs": [],
   "source": []
  },
  {
   "cell_type": "code",
   "execution_count": null,
   "metadata": {},
   "outputs": [],
   "source": []
  },
  {
   "cell_type": "code",
   "execution_count": null,
   "metadata": {},
   "outputs": [],
   "source": []
  },
  {
   "cell_type": "code",
   "execution_count": null,
   "metadata": {},
   "outputs": [],
   "source": []
  },
  {
   "cell_type": "code",
   "execution_count": null,
   "metadata": {},
   "outputs": [],
   "source": []
  },
  {
   "cell_type": "code",
   "execution_count": 62,
   "metadata": {},
   "outputs": [
    {
     "data": {
      "text/plain": [
       "<matplotlib.axes._subplots.AxesSubplot at 0x1dff2f7cef0>"
      ]
     },
     "execution_count": 62,
     "metadata": {},
     "output_type": "execute_result"
    },
    {
     "data": {
      "image/png": "[encoded data removed]",
      "text/plain": [
       "<Figure size 432x288 with 1 Axes>"
      ]
     },
     "metadata": {},
     "output_type": "display_data"
    }
   ],
   "source": [
    "sns.scatterplot(x = \"return_10_11\", y = \"return_12\", data = tidy_more_features, alpha = 0.1)"
   ]
  },
  {
   "cell_type": "code",
   "execution_count": null,
   "metadata": {},
   "outputs": [],
   "source": []
  },
  {
   "cell_type": "code",
   "execution_count": null,
   "metadata": {},
   "outputs": [],
   "source": []
  },
  {
   "cell_type": "code",
   "execution_count": null,
   "metadata": {},
   "outputs": [],
   "source": []
  },
  {
   "cell_type": "code",
   "execution_count": null,
   "metadata": {},
   "outputs": [],
   "source": []
  },
  {
   "cell_type": "code",
   "execution_count": null,
   "metadata": {},
   "outputs": [],
   "source": []
  },
  {
   "cell_type": "code",
   "execution_count": null,
   "metadata": {},
   "outputs": [],
   "source": []
  },
  {
   "cell_type": "code",
   "execution_count": null,
   "metadata": {},
   "outputs": [],
   "source": []
  },
  {
   "cell_type": "code",
   "execution_count": null,
   "metadata": {},
   "outputs": [],
   "source": []
  },
  {
   "cell_type": "code",
   "execution_count": null,
   "metadata": {},
   "outputs": [],
   "source": []
  },
  {
   "cell_type": "code",
   "execution_count": null,
   "metadata": {},
   "outputs": [],
   "source": []
  },
  {
   "cell_type": "code",
   "execution_count": null,
   "metadata": {},
   "outputs": [],
   "source": []
  },
  {
   "cell_type": "code",
   "execution_count": null,
   "metadata": {},
   "outputs": [],
   "source": []
  },
  {
   "cell_type": "code",
   "execution_count": null,
   "metadata": {},
   "outputs": [],
   "source": []
  },
  {
   "cell_type": "code",
   "execution_count": null,
   "metadata": {},
   "outputs": [],
   "source": []
  },
  {
   "cell_type": "code",
   "execution_count": null,
   "metadata": {},
   "outputs": [],
   "source": []
  },
  {
   "cell_type": "code",
   "execution_count": null,
   "metadata": {},
   "outputs": [],
   "source": []
  },
  {
   "cell_type": "code",
   "execution_count": 235,
   "metadata": {
    "scrolled": true
   },
   "outputs": [],
   "source": [
    "window_size = 12\n",
    "# The first window is from row 0 to 3, i.e. iloc[0: 0 + window_size - 1]\n",
    "# The last window is from row len(x.index) - window_size + 1 to len(x.index)\n",
    "# len(x.index) - window_size + 1 is \n",
    "#test.apply(lambda x: x.iloc[i: i + k] for i in range(len(x.index) - k + 1))\n",
    "#test2 = test.apply(lambda x: x.iloc[i: i + window_size] for i in range(len(x.index) - window_size + 1))\n",
    "#.apply(lambda x: pd.concat([x.iloc[i: i + k] for i in range(len(x.index) - k + 1)]))])\n",
    "def make_more(df):\n",
    "    return [df.iloc[i: i + window_size] for i in range(len(df.index) - window_size + 1)]\n",
    "\n",
    "#test2 = test.apply(lambda x: make_more(df))"
   ]
  },
  {
   "cell_type": "code",
   "execution_count": null,
   "metadata": {},
   "outputs": [],
   "source": []
  },
  {
   "cell_type": "code",
   "execution_count": null,
   "metadata": {},
   "outputs": [],
   "source": []
  },
  {
   "cell_type": "code",
   "execution_count": null,
   "metadata": {},
   "outputs": [],
   "source": []
  },
  {
   "cell_type": "code",
   "execution_count": null,
   "metadata": {},
   "outputs": [],
   "source": []
  },
  {
   "cell_type": "code",
   "execution_count": null,
   "metadata": {},
   "outputs": [],
   "source": []
  },
  {
   "cell_type": "code",
   "execution_count": null,
   "metadata": {},
   "outputs": [],
   "source": []
  },
  {
   "cell_type": "code",
   "execution_count": null,
   "metadata": {},
   "outputs": [],
   "source": []
  },
  {
   "cell_type": "code",
   "execution_count": null,
   "metadata": {},
   "outputs": [],
   "source": []
  },
  {
   "cell_type": "code",
   "execution_count": null,
   "metadata": {},
   "outputs": [],
   "source": []
  },
  {
   "cell_type": "code",
   "execution_count": null,
   "metadata": {},
   "outputs": [],
   "source": []
  },
  {
   "cell_type": "code",
   "execution_count": null,
   "metadata": {},
   "outputs": [],
   "source": []
  },
  {
   "cell_type": "code",
   "execution_count": null,
   "metadata": {},
   "outputs": [],
   "source": []
  },
  {
   "cell_type": "code",
   "execution_count": null,
   "metadata": {},
   "outputs": [],
   "source": []
  },
  {
   "cell_type": "code",
   "execution_count": null,
   "metadata": {},
   "outputs": [],
   "source": []
  },
  {
   "cell_type": "code",
   "execution_count": null,
   "metadata": {},
   "outputs": [],
   "source": []
  },
  {
   "cell_type": "code",
   "execution_count": null,
   "metadata": {},
   "outputs": [],
   "source": []
  },
  {
   "cell_type": "code",
   "execution_count": null,
   "metadata": {},
   "outputs": [],
   "source": []
  }
 ],
 "metadata": {
  "kernelspec": {
   "display_name": "Python 3",
   "language": "python",
   "name": "python3"
  },
  "language_info": {
   "codemirror_mode": {
    "name": "ipython",
    "version": 3
   },
   "file_extension": ".py",
   "mimetype": "text/x-python",
   "name": "python",
   "nbconvert_exporter": "python",
   "pygments_lexer": "ipython3",
   "version": "3.6.5"
  }
 },
 "nbformat": 4,
 "nbformat_minor": 2
}
